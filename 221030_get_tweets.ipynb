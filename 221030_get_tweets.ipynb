{
 "cells": [
  {
   "cell_type": "code",
   "execution_count": 7,
   "id": "59a8cac9",
   "metadata": {},
   "outputs": [],
   "source": [
    "# Get tweets using SNSCRAPE \n",
    "import snscrape.modules.twitter as sntwitter\n",
    "import pandas as pd"
   ]
  },
  {
   "cell_type": "code",
   "execution_count": 8,
   "id": "8b8883b7",
   "metadata": {},
   "outputs": [
    {
     "name": "stderr",
     "output_type": "stream",
     "text": [
      "/var/folders/lv/fc005q_d2fx0299s750b5vw00000gn/T/ipykernel_26737/3146675296.py:14: FutureWarning: username is deprecated, use user.username instead\n",
      "  tweets.append([tweet.date, tweet.username, tweet.content])\n",
      "/var/folders/lv/fc005q_d2fx0299s750b5vw00000gn/T/ipykernel_26737/3146675296.py:14: FutureWarning: content is deprecated, use rawContent instead\n",
      "  tweets.append([tweet.date, tweet.username, tweet.content])\n",
      "Tweet 1413040431047184384 contains an app icon medium key '4_1586596675635666951' on app 'iphone_app'/'1253351424', but the corresponding medium is missing; dropping\n",
      "Tweet 1413040431047184384 contains an app icon medium key '4_1586596675635666951' on app 'ipad_app'/'1253351424', but the corresponding medium is missing; dropping\n"
     ]
    }
   ],
   "source": [
    "# Using [until:2022-07-25_00:00:00_JST since:2022-07-18_00:00:00_JST], we convert the time to JST  \n",
    "query = \"(コロナ　メンタル OR 心 OR こころ OR ココロ)　lang:ja until:2021-09-05_00:00:00_JST since:2021-08-09_00:00:00_JST -filter:replies\"\n",
    "tweets = []\n",
    "limit = 100000\n",
    "\n",
    "\n",
    "for tweet in sntwitter.TwitterSearchScraper(query).get_items():\n",
    "    \n",
    "    # print(vars(tweet))\n",
    "    # break\n",
    "    if len(tweets) == limit:\n",
    "        break\n",
    "    else:\n",
    "        tweets.append([tweet.date, tweet.username, tweet.content])\n",
    "        \n",
    "df = pd.DataFrame(tweets, columns=['Date', 'User', 'Tweet'])"
   ]
  },
  {
   "cell_type": "code",
   "execution_count": 9,
   "id": "0737f66f",
   "metadata": {},
   "outputs": [],
   "source": [
    "df.to_csv('210809-210905-raw-tweets.csv',index=False, encoding = 'utf-8-sig')"
   ]
  },
  {
   "cell_type": "code",
   "execution_count": null,
   "id": "2aa8e246",
   "metadata": {},
   "outputs": [],
   "source": []
  }
 ],
 "metadata": {
  "kernelspec": {
   "display_name": "Python 3 (ipykernel)",
   "language": "python",
   "name": "python3"
  },
  "language_info": {
   "codemirror_mode": {
    "name": "ipython",
    "version": 3
   },
   "file_extension": ".py",
   "mimetype": "text/x-python",
   "name": "python",
   "nbconvert_exporter": "python",
   "pygments_lexer": "ipython3",
   "version": "3.8.13"
  }
 },
 "nbformat": 4,
 "nbformat_minor": 5
}
